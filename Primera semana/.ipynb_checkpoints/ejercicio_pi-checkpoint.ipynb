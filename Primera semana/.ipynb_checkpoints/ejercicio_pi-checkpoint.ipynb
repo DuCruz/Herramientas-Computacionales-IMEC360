{
 "cells": [
  {
   "cell_type": "code",
   "execution_count": 1,
   "metadata": {},
   "outputs": [],
   "source": [
    "import random\n",
    "r=1 ##radio del círculo\n",
    "def pi_2(n):\n",
    "    \n",
    "    aciertos = 0\n",
    "    for i in range(n):\n",
    "        x, y = random.random(), random.random()\n",
    "        if (x**2+y**2)<=r**2:  ##Ecuación circulo centrado en el centro 0,0\n",
    "            aciertos +=1\n",
    "    return (4 * aciertos) / n ## 4*aciertos/intentos"
   ]
  },
  {
   "cell_type": "code",
   "execution_count": 2,
   "metadata": {},
   "outputs": [
    {
     "data": {
      "text/plain": [
       "3.141596"
      ]
     },
     "execution_count": 2,
     "metadata": {},
     "output_type": "execute_result"
    }
   ],
   "source": [
    "pi_2(1000000)"
   ]
  }
 ],
 "metadata": {
  "kernelspec": {
   "display_name": "Python 3.6",
   "language": "python",
   "name": "python36"
  },
  "language_info": {
   "codemirror_mode": {
    "name": "ipython",
    "version": 3
   },
   "file_extension": ".py",
   "mimetype": "text/x-python",
   "name": "python",
   "nbconvert_exporter": "python",
   "pygments_lexer": "ipython3",
   "version": "3.6.3"
  }
 },
 "nbformat": 4,
 "nbformat_minor": 2
}
