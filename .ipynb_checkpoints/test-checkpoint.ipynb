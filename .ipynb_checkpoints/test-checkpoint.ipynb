{
 "cells": [
  {
   "cell_type": "code",
   "execution_count": 1,
   "metadata": {},
   "outputs": [
    {
     "name": "stdout",
     "output_type": "stream",
     "text": [
      "Populating the interactive namespace from numpy and matplotlib\n"
     ]
    }
   ],
   "source": [
    "\n",
    "%pylab inline\n",
    "import matplotlib.pyplot as plt\n",
    "import matplotlib.pylab as pylab\n",
    "import numpy as np\n",
    "import string\n",
    "import matplotlib.cm as cm\n",
    "import os\n",
    "import pandas as pd\n",
    "from scipy import ndimage\n",
    "from scipy.integrate import odeint\n"
   ]
  },
  {
   "cell_type": "code",
   "execution_count": 2,
   "metadata": {},
   "outputs": [],
   "source": [
    "masa=152.0 # masa del Kart (kg)\n",
    "ng=3.4 # Relación de Transmisión\n",
    "a=0.2231 # Distancia del centro de gravedad al eje de la llanta trasera (m)\n",
    "l=1.0063 # Distancia de eje de las llantas traseras y delanteras (m)\n",
    "h=0.07478 # Altura del centro de gravedad del kart con respecto al piso (m)\n",
    "mu_c=1 #coeficiente de adherencia de las ruedas\n",
    "\n",
    "# Variables de tiempo\n",
    "t_in=0 #Tiempo incial de analisis\n",
    "t_acel=100 #Tiempo final para el analisis de la aceleracion\n",
    "t_fren=5 #Tiempo final para el analisis del freno\n",
    "deltat=0.001 # Paso del tiempo"
   ]
  },
  {
   "cell_type": "code",
   "execution_count": 3,
   "metadata": {},
   "outputs": [],
   "source": [
    "\n",
    "# Definicion de variables\n",
    "x_0=0\n",
    "v_0=0\n",
    "a_0=0\n",
    "c_ini = [x_0,v_0]\n",
    "t=np.arange(t_in,t_acel,deltat)\n",
    "acel=[]\n",
    "vel=[]\n",
    "pos=[]\n",
    "pos.append(x_0) \n",
    "v=v_0\n",
    "a=a_0\n",
    "acel.append(a)\n",
    "vel.append(v)"
   ]
  },
  {
   "cell_type": "code",
   "execution_count": 4,
   "metadata": {},
   "outputs": [],
   "source": [
    "# Datos Llantas tractivas \n",
    "rll=0.139 # Radio geométrico de las llantas en traseras (m)\n",
    "refc=0.98*rll # Radio efectivo llantas traseras (m)\n",
    "rin=0.0631 #radio interno del neumático (m)\n",
    "\n",
    "# Datos Transmisión\n",
    "#dp=11.0 # Dientes del piñon\n",
    "#dpl=39.0 # Dientes del plato\n",
    "#ng=dpl/dp # Relación de Transmisión\n",
    "ng=1.9\n",
    "etaf=0.95 # Eficiencia de transmisión\n",
    "\n",
    "# Datos eje llantas\n",
    "reje=0.02 # Radio eje de las llantas (m)\n",
    "meje=3.832 # Masa del eje (kg)\n",
    "\n",
    "# Datos Kart general\n",
    "#masa=152.0 # masa del Kart (kg)\n",
    "g=9.81 # Gravedad (m/s)\n",
    "w=masa*g # peso del Kart (N)\n",
    "\n",
    "# Datos Fuerzas de la fórmula de aceleración\n",
    "rho=1.1955 # densidad del aire (kg/m^3)\n",
    "dll=0.975 # Distancia entre ejes de llantas delanteras (m)\n",
    "alj=0.88 # Altura con el piloto sentado en el kart (estatura 1.68 m) (m)\n",
    "af=(dll*alj)/2 # Area Frontal Kart (m^2)\n",
    "cd=0.89 # Coeficiente de Arrastre Kart\n",
    "vw=0.0 # velocidad del viento (m/s)\n",
    "theta=0.0 # Angulo carretera\n",
    "\n",
    "# Inercias\n",
    "ii=5.2E-3 # Inercia motor de combustión (kg m^2) \n",
    "\n",
    "mllt=1.43 # Masa llantas traseras (kg)\n",
    "mlld=1.20 # Masa llantas delanteras (kg)\n",
    "rlld=0.129 # Radio llantas delanteras (m)\n",
    "rind=0.0631 # Radio rin llantas delanteras (m)\n",
    "mbt=0.7*mllt # El porcentaje de la masa total que pesa la parte \"banda\" de la llanta trasera\n",
    "mdt=0.3*mllt # El porcentaje de la masa total que pesa la parte \"disco\" de la llanta trasera\n",
    "mbd=0.7*mlld # El porcentaje de la masa total que pesa la parte \"banda\" de la llanta delantera\n",
    "mdd=0.3*mlld # El porcentaje de la masa total que pesa la parte \"disco\" de la llanta delantera\n",
    "illd=(mbd*rlld)+(mdd*(rlld**2-rind**2))/2 # Inercia 1 llanta delantera (kg-m^2)\n",
    "illt=(mbt*rll)+(mdt*(rll**2-rin**2))/2 # Inercia 1 llanta trasera (kg-m^2)\n",
    "illTotal=2*illd+illt*2\n",
    "#paso=7.62 #(mm)\n",
    "#rpim= paso*(0.6+(1/tan(180/dp))) # Radio Piñon (mm)\n",
    "#rplam=paso*(0.6+(1/tan(180/dpl))) # Radio Plato (mm)\n",
    "#rpi= rpim/1000 #Radio Piñon (m)\n",
    "#rpla= rplam/1000 #Radio Plato (m)\n",
    "rpi=0.01525#(m)\n",
    "rpla=0.04096 #(m)\n",
    "rhoac=7850.0 # Densidad del Acero (kg/m^3)\n",
    "bpi=0.01 # Ancho piñon (m)\n",
    "bpla=0.02 # Ancho plato (m)\n",
    "vpi= bpi*np.pi*rpi**2 # Volumen del piñon (m^3)\n",
    "vpla=bpla*np.pi*rpla**2 # Volumen del plato (m^3)\n",
    "mpi=rhoac*vpi # Masa del piñon (kg)\n",
    "mpla=rhoac*vpla # Masa del plato (kg)\n",
    "ig=((mpi*(rpi**2))/2.0)+((mpla*(rpla**2))/2.0) # Inercia de la transmisión (kg-m^2)\n",
    "\n",
    "ieje=(meje*reje**2)/2.0 # Inercia del eje de las llantas (kg-m^2)\n",
    "\n",
    "# Fuerzas Aceleración\n",
    "# Resistencia a la rodadura\n",
    "#a=0.2231 # Distancia del centro de gravedad al eje de la llanta trasera (m)\n",
    "#l=1.0063 # Distancia de eje de las llantas traseras y delanteras (m)\n",
    "#h=0.07478 # Altura del centro de gravedad del kart con respecto al piso (m)\n",
    "masaEquivalente=((illTotal)+(ieje)+(ii*ng**2))/refc**2"
   ]
  },
  {
   "cell_type": "code",
   "execution_count": 5,
   "metadata": {},
   "outputs": [],
   "source": [
    "def arrastre(Vx):\n",
    "    return (1/2)*(rho)*af*cd*(Vx+0)**2"
   ]
  },
  {
   "cell_type": "code",
   "execution_count": 6,
   "metadata": {},
   "outputs": [],
   "source": [
    "def rodadura(vx,ax):\n",
    "    wr=w*((a/l)+(ax/g*(h/l))) # fuerza vertical sobre las llantas tractivas\n",
    "    fr=0.01*(1+(vx/100.0)) # Factor de rodadura la velocidad del kart debe estar en (km/h)\n",
    "    return wr*fr*cos(theta)"
   ]
  },
  {
   "cell_type": "code",
   "execution_count": 7,
   "metadata": {},
   "outputs": [],
   "source": [
    "def torquemotor(omega):\n",
    "    #Necesito RPM\n",
    "    omega=omega*60/(2*np.pi)\n",
    "    #P=3.037*((-0.00000004564538677*omega**3)+(0.0001056995459*omega**2)+(1.53209191*omega)-1.895523696)\n",
    "    P=-3.6134E-8*(omega**3)+2.9953E-5*(omega**2)+(1.6696*omega)+5.4706E-1\n",
    "    T=P/(omega*(2*np.pi)/60)\n",
    "    #T=P/omega\n",
    "    return T"
   ]
  },
  {
   "cell_type": "code",
   "execution_count": 8,
   "metadata": {},
   "outputs": [],
   "source": [
    "def vangularmotor(vx):\n",
    "    a=(vx*ng)/refc\n",
    "    if a<50*(2*np.pi)/60:\n",
    "        a=50*(2*np.pi)/60\n",
    "    if a>5000*(2*np.pi)/60:\n",
    "        a=5000*(2*np.pi)/60 \n",
    "    return a # (rad/s)"
   ]
  },
  {
   "cell_type": "code",
   "execution_count": 9,
   "metadata": {},
   "outputs": [],
   "source": [
    "def aceleracion(vx,t0):\n",
    "    xx,v=vx\n",
    "    ax=acel[len(acel)-1]\n",
    "    a=(torquemotor(vangularmotor(v))*ng*etaf)/refc-rodadura(v,ax)-arrastre(v)\n",
    "    a=a/(masaEquivalente+masa)\n",
    "    acel.append(a)\n",
    "    return [v,a]"
   ]
  },
  {
   "cell_type": "code",
   "execution_count": 10,
   "metadata": {},
   "outputs": [],
   "source": [
    "def posicion(vt,lista,t): \n",
    "    for i,p in enumerate(t):\n",
    "        if(i>0):\n",
    "            x=(p-t[i-1])*(vt[i]+vt[i-1])/2\n",
    "            x=lista[i-1]+x\n",
    "            lista.append(x)"
   ]
  },
  {
   "cell_type": "code",
   "execution_count": 11,
   "metadata": {},
   "outputs": [],
   "source": [
    "def VelocidadMaxima(vels):\n",
    "    velmax=0\n",
    "    a=0\n",
    "    for i,v in enumerate(vels):\n",
    "        if v-velmax>0.01 :             \n",
    "            velmax=v\n",
    "            a=i            \n",
    "    return velmax,a"
   ]
  },
  {
   "cell_type": "code",
   "execution_count": 12,
   "metadata": {},
   "outputs": [],
   "source": [
    "def frenado(vx,t0):     \n",
    "    xx,v=vx    \n",
    "    vel2.append(v)\n",
    "    f_d=mu_c*(w/l)*(l-a+h*mu_c)\n",
    "    f_t=mu_c*(w/l)*(a+h*mu_c)\n",
    "    ax=acel2[len(acel2)-1]\n",
    "    af=-f_d-f_t-rodadura(v,ax)-arrastre(v)\n",
    "    if v<0:\n",
    "        v=0\n",
    "        af=0\n",
    "    af=af/(masaEquivalente+masa)\n",
    "    acel2.append(af) \n",
    "    return [v,af]"
   ]
  },
  {
   "cell_type": "code",
   "execution_count": 13,
   "metadata": {},
   "outputs": [],
   "source": [
    "def grafacel(pos,sol,t):\n",
    "    plt.ion()\n",
    "    plt.plot(t,sol[:,0],'b')\n",
    "    plt.xlabel(\"Tiempo [s]\")\n",
    "    plt.ylabel(\"Distancia [m]\",color='b')\n",
    "    plt.grid(True)\n",
    "    plt.twinx()\n",
    "    plt.plot(t,sol[:,1]*3.6,'r')\n",
    "    plt.ylabel(\"Velocidad [km/h]\",color='r')\n",
    "    plt.legend()"
   ]
  },
  {
   "cell_type": "code",
   "execution_count": 14,
   "metadata": {},
   "outputs": [],
   "source": [
    "sol = odeint(aceleracion,c_ini,t)\n",
    "vel=sol[:,1]\n",
    "posicion(sol[:,1],pos,t)"
   ]
  },
  {
   "cell_type": "code",
   "execution_count": 16,
   "metadata": {},
   "outputs": [
    {
     "data": {
      "text/plain": [
       "array([[  0.00000000e+00,   0.00000000e+00],\n",
       "       [  6.00927573e-07,   1.17945748e-03],\n",
       "       [  2.37011378e-06,   2.35891494e-03],\n",
       "       ..., \n",
       "       [  2.27368730e+03,   2.69559227e+01],\n",
       "       [  2.27371426e+03,   2.69559233e+01],\n",
       "       [  2.27374121e+03,   2.69559239e+01]])"
      ]
     },
     "execution_count": 16,
     "metadata": {},
     "output_type": "execute_result"
    }
   ],
   "source": [
    "sol\n"
   ]
  },
  {
   "cell_type": "code",
   "execution_count": 17,
   "metadata": {},
   "outputs": [
    {
     "data": {
      "text/plain": [
       "array([  0.00000000e+00,   1.17945748e-03,   2.35891494e-03, ...,\n",
       "         2.69559227e+01,   2.69559233e+01,   2.69559239e+01])"
      ]
     },
     "execution_count": 17,
     "metadata": {},
     "output_type": "execute_result"
    }
   ],
   "source": [
    "vel"
   ]
  },
  {
   "cell_type": "code",
   "execution_count": null,
   "metadata": {},
   "outputs": [],
   "source": []
  }
 ],
 "metadata": {
  "kernelspec": {
   "display_name": "Python 3.6",
   "language": "python",
   "name": "python36"
  },
  "language_info": {
   "codemirror_mode": {
    "name": "ipython",
    "version": 3
   },
   "file_extension": ".py",
   "mimetype": "text/x-python",
   "name": "python",
   "nbconvert_exporter": "python",
   "pygments_lexer": "ipython3",
   "version": "3.6.3"
  }
 },
 "nbformat": 4,
 "nbformat_minor": 2
}
