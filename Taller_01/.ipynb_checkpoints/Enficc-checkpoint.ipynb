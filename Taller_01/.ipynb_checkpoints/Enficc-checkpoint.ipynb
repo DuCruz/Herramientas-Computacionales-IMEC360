{
 "cells": [
  {
   "cell_type": "markdown",
   "metadata": {},
   "source": [
    "# TALLER 1 - Herramientas computacionales\n",
    "### Diego Ulises Cruz Cruz\n",
    "#### 201412142"
   ]
  },
  {
   "cell_type": "markdown",
   "metadata": {},
   "source": [
    "#### Se importan las librerías a usar\n",
    "▼"
   ]
  },
  {
   "cell_type": "code",
   "execution_count": 1,
   "metadata": {},
   "outputs": [
    {
     "name": "stdout",
     "output_type": "stream",
     "text": [
      "Populating the interactive namespace from numpy and matplotlib\n"
     ]
    }
   ],
   "source": [
    "import os\n",
    "import pandas as pd\n",
    "from scipy import stats as st\n",
    "%pylab inline"
   ]
  },
  {
   "cell_type": "markdown",
   "metadata": {},
   "source": [
    "\n",
    "#### Se crea la tabla comparativa que se va a usar al final del documento\n",
    "▼"
   ]
  },
  {
   "cell_type": "code",
   "execution_count": 2,
   "metadata": {},
   "outputs": [],
   "source": [
    "tabla=pd.DataFrame(columns=('CIUDAD','ENFICC','RMSNe %','MBE %',\n",
    "                            'KSI %','AÑO INICIO','AÑO FIN','MES INICIO',\n",
    "                            'MES FIN'))"
   ]
  },
  {
   "cell_type": "markdown",
   "metadata": {},
   "source": [
    "\n",
    "\n",
    "#### Función que invoca la serie IDEAM o NREL para una ciudad\n",
    "\n",
    "* Parametros: Nombre de la ciudad y tipo de serie (IDEAM o NREL)\n",
    "* retorno: serie IDEAM o NREL para la ciudad deseada\n",
    "▼"
   ]
  },
  {
   "cell_type": "code",
   "execution_count": 3,
   "metadata": {},
   "outputs": [],
   "source": [
    "def ser_dat (ciudad,fuente):\n",
    "    base_dir = os.path.join( '.','data')\n",
    "    output_dir = os.path.join( '.','output')\n",
    "    serie_csv = os.path.join(base_dir,ciudad,fuente+'.csv')\n",
    "    serie_pd = pd.read_csv(serie_csv, sep = ';',encoding='latin-1')\n",
    "    return serie_pd;"
   ]
  },
  {
   "cell_type": "markdown",
   "metadata": {},
   "source": [
    "\n",
    "#### Función que entrega la energía total mensual en  $\\frac{kWh}{m^{2}}$\n",
    "* Parametros: Serie a la que se desea la energía total mensual\n",
    "* Retorno: Una nueva serie, pero con los valores totales mensuales\n",
    "▼\n"
   ]
  },
  {
   "cell_type": "code",
   "execution_count": 4,
   "metadata": {},
   "outputs": [],
   "source": [
    "def ghi_mensual(serie_horaria):\n",
    "    agnos = sorted(serie_horaria['AÑO'].unique())\n",
    "    ghi_df = pd.DataFrame(columns=[\"AÑO\", \"MES\", \"DIAS\", \"GHImes\"])\n",
    "    for agno in agnos:\n",
    "        for mes in range(1,13):\n",
    "            nombre_energia = list(serie_horaria)[-1]\n",
    "            dias = sorted(serie_horaria[(serie_horaria['AÑO'] == agno) &\n",
    "                        (serie_horaria['MES'] == mes)][\"DIA\"].unique())\n",
    "            ghi_mes = serie_horaria.loc[((serie_horaria[\"AÑO\"] == agno)\n",
    "                            & (serie_horaria[\"MES\"] == mes)),\n",
    "                                        nombre_energia].sum()/1000\n",
    "            ghi_dict = {\"AÑO\":agno, \"MES\":mes, \"DIAS\":dias[-1],\n",
    "                        \"GHImes\":ghi_mes}\n",
    "            ghi_df = ghi_df.append(ghi_dict, ignore_index=True)\n",
    "    return ghi_df"
   ]
  },
  {
   "cell_type": "markdown",
   "metadata": {},
   "source": [
    "\n",
    "#### Funcion que entrega la energía diaria mensual en $\\frac{kWh}{m^{2}}$\n",
    "* Parametros: Serie con valores totales mensuales\n",
    "* Retorno: Una nueva serie, con valores totales diarios mensuales\n",
    "▼"
   ]
  },
  {
   "cell_type": "code",
   "execution_count": 5,
   "metadata": {},
   "outputs": [],
   "source": [
    "def ghi_dia(serie_ghi_mensual):\n",
    "    agnos = sorted(serie_ghi_mensual['AÑO'].unique())\n",
    "    ghi_df = pd.DataFrame(columns=[\"AÑO\", \"MES\", \"GHIdiario\"])\n",
    "    for agno in agnos:\n",
    "        for mes in range(1,13):\n",
    "            dias = serie_ghi_mensual.loc[((serie_ghi_mensual[\"AÑO\"] == agno)\n",
    "                            & (serie_ghi_mensual[\"MES\"] == mes))\n",
    "                                         ,\"DIAS\"].item()\n",
    "            ghi_diario = serie_ghi_mensual.loc[(\n",
    "                (serie_ghi_mensual[\"AÑO\"] == agno)\n",
    "                            & (serie_ghi_mensual[\"MES\"] == mes)),\n",
    "                \"GHImes\"].item()/dias\n",
    "            ghi_dict = {\"AÑO\":agno, \"MES\":mes, \"GHIdiario\":ghi_diario}\n",
    "            ghi_df = ghi_df.append(ghi_dict, ignore_index=True)\n",
    "    return ghi_df"
   ]
  },
  {
   "cell_type": "markdown",
   "metadata": {},
   "source": [
    "\n",
    "#### Función que calcula el valor promedio mensual para la serie deseada\n",
    "* Parametro: Serie que se desea calcular el valor promedio mensual\n",
    "* retorno: serie con los valores promedios mensuales\n",
    "▼"
   ]
  },
  {
   "cell_type": "code",
   "execution_count": 6,
   "metadata": {},
   "outputs": [],
   "source": [
    "def val_prom_mes (serie_Horaria):\n",
    "    \n",
    "    ghi_mes= ghi_mensual(serie_Horaria)\n",
    "    ghi_diario= ghi_dia(ghi_mes)\n",
    "    datos = sorted(ghi_diario[\"GHIdiario\"])\n",
    "    return datos"
   ]
  },
  {
   "cell_type": "markdown",
   "metadata": {},
   "source": [
    "\n",
    "#### Función grafica dos series según los ejes de Energía/Energía Base IDEAM vs Datos\n",
    "* Parametros:Serie que se desea tener el valor de energía, Serie IDEAM y Nombre que se desea poner a la gráfica\n",
    "* retorno: Gráfica de Energía/Energía Base IDEAM vs Datos\n",
    "▼"
   ]
  },
  {
   "cell_type": "code",
   "execution_count": 7,
   "metadata": {},
   "outputs": [],
   "source": [
    "def graph(serie,data_IDEAM,nombre):\n",
    "    \n",
    "    dat_ser=val_prom_mes(serie)\n",
    "    pylab.xlabel(\"Datos\")\n",
    "    pylab.ylabel(\"Energía/Energía Base IDEAM\")\n",
    "    numdatos = range(len(dat_ser))\n",
    "    pylab.plot(numdatos,dat_ser/data_IDEAM[0], label=nombre);\n",
    "    pylab.legend(loc='upper left');\n",
    "    return pylab.plot"
   ]
  },
  {
   "cell_type": "markdown",
   "metadata": {},
   "source": [
    "\n",
    "#### Funcion que calcula la ENFICC en el percentil 99%\n",
    "* Parametros:Serie que se desea tener el valor de la ENFICC\n",
    "* retorno: ENFICC\n",
    "▼"
   ]
  },
  {
   "cell_type": "code",
   "execution_count": 8,
   "metadata": {},
   "outputs": [],
   "source": [
    "def percen(serie_Horaria):\n",
    "    prom_mes=val_prom_mes(serie_Horaria)\n",
    "    percentil = 1\n",
    "    arra=np.asarray(prom_mes)\n",
    "    enficc = np.percentile(arra,percentil)\n",
    "    return enficc"
   ]
  },
  {
   "cell_type": "markdown",
   "metadata": {},
   "source": [
    "\n",
    "#### Funcion que calcula la media y desviación estandar\n",
    "* Parametros:Serie a la que se desea tener el valor de la media y desviación estandar\n",
    "* retorno: media y desviación estandar\n",
    "▼"
   ]
  },
  {
   "cell_type": "code",
   "execution_count": 9,
   "metadata": {},
   "outputs": [],
   "source": [
    "def med_desvEst(serie):\n",
    "    media=np.mean(serie)\n",
    "    desvesta=np.std(serie)\n",
    "    return media,desvesta"
   ]
  },
  {
   "cell_type": "markdown",
   "metadata": {},
   "source": [
    "\n",
    "#### Funcion que recorta una serie en un periodo de tiempo\n",
    "* Parametros: Serie a recortar, año de inicio, año de finalización, mes de inicio en el año de inicio, mes de finalización en el año de finalización\n",
    "* retorno: serie recortada\n",
    "▼"
   ]
  },
  {
   "cell_type": "code",
   "execution_count": 10,
   "metadata": {},
   "outputs": [],
   "source": [
    "def recortes(serie, agno_ini, agno_fin, mes_ini, mes_fin):\n",
    "    if (agno_ini!=agno_fin) & (agno_fin-agno_ini>=2):\n",
    "        ser_1=serie[(serie['AÑO']==agno_ini)&(serie['MES']>=mes_ini)]\n",
    "        ser_2=serie[(serie['AÑO']>agno_ini)&(serie['AÑO']<agno_fin)]\n",
    "        ser_3=serie[(serie['AÑO']==agno_fin)&(serie['MES']<=mes_fin)]\n",
    "        frame=[ser_1,ser_2,ser_3]\n",
    "        ser=pd.concat(frame)\n",
    "        \n",
    "    if (agno_ini!=agno_fin) & (agno_fin-agno_ini<2):\n",
    "        ser_1=serie[(serie['AÑO']==agno_ini)&(serie['MES']>=mes_ini)]\n",
    "        ser_2=serie[(serie['AÑO']==agno_fin)&(serie['MES']<=mes_fin)]\n",
    "        frame=[ser_1,ser_2]\n",
    "        ser=pd.concat(frame)\n",
    "    if (agno_ini==agno_fin):\n",
    "        ser=serie[(serie['AÑO']==agno_ini)&(serie['MES']>=mes_ini)&\n",
    "                  (serie['MES']<=mes_fin)]\n",
    "    \n",
    "    return ser\n",
    "    "
   ]
  },
  {
   "cell_type": "markdown",
   "metadata": {},
   "source": [
    "\n",
    "#### Funcion que calcula el mcp\n",
    "* Parametros: Serie de guía corta, serie NREL a corregir y serie guia\n",
    "* retorno: MCP\n",
    "▼"
   ]
  },
  {
   "cell_type": "code",
   "execution_count": 11,
   "metadata": {},
   "outputs": [],
   "source": [
    "def mcp(IDEAM_GUIA,NREL,NREL_GUIA):\n",
    "    mu_x, desvesta_x=med_desvEst(NREL_GUIA)\n",
    "    mu_y, desvesta_y=med_desvEst(IDEAM_GUIA)\n",
    "    \n",
    "    return ((mu_y-(desvesta_y/desvesta_x)*mu_x)+(desvesta_y/desvesta_x)*NREL)"
   ]
  },
  {
   "cell_type": "markdown",
   "metadata": {},
   "source": [
    "\n",
    "#### Funcion que corrige la serie\n",
    "* Parametros: Ciudad, año de inicio, año de finalización, mes de inicio, y mes de finalización\n",
    "* retorno: Función corregida\n",
    "▼"
   ]
  },
  {
   "cell_type": "code",
   "execution_count": 12,
   "metadata": {},
   "outputs": [],
   "source": [
    "def ser_correg(ciudad,agno_ini, agno_fin, mes_ini, mes_fin):\n",
    "    IDEAM=ser_dat(ciudad,'IDEAM')\n",
    "    prom_mes=val_prom_mes(IDEAM)\n",
    "    NREL=ser_dat(ciudad,'NREL')\n",
    "    ser_guia=recortes(IDEAM,agno_ini, agno_fin, mes_ini, mes_fin) ['IDEAM']\n",
    "    nrel_guia=recortes(NREL,agno_ini, agno_fin, mes_ini, mes_fin) ['NREL']\n",
    "    fun_corr_1=mcp(ser_guia,NREL['NREL'],nrel_guia)\n",
    "    fun_corr=NREL\n",
    "    fun_corr['NREL']=fun_corr_1\n",
    "    fun_corr=fun_corr.clip(lower=0)\n",
    "    \n",
    "    return fun_corr"
   ]
  },
  {
   "cell_type": "markdown",
   "metadata": {},
   "source": [
    "\n",
    "#### Funcion que plotea la serie IDEAM, NREL y la corregida para una función\n",
    "* Parametros: Ciudad, año de inicio, año de finalización, mes de inicio, y mes de finalización\n",
    "* retorno: Plot de la gráfica\n",
    "▼"
   ]
  },
  {
   "cell_type": "code",
   "execution_count": 13,
   "metadata": {},
   "outputs": [],
   "source": [
    "def city(ciudad,agno_ini, agno_fin, mes_ini, mes_fin):\n",
    "    output_dir = os.path.join( '.','output')\n",
    "    ser_ideam=ser_dat(ciudad,'IDEAM')\n",
    "    ser_nrel=ser_dat(ciudad,'NREL')\n",
    "    prom=val_prom_mes(ser_ideam)\n",
    "    graph(ser_ideam,prom,'IDEAM')\n",
    "    graph(ser_nrel,prom,'NREL')\n",
    "    fun_corr=ser_correg(ciudad,agno_ini, agno_fin, mes_ini, mes_fin)\n",
    "    graph(fun_corr,prom,'CORREGIDA')\n",
    "    pylab.savefig(os.path.join(output_dir,ciudad+'.png'), dpi=600)"
   ]
  },
  {
   "cell_type": "markdown",
   "metadata": {},
   "source": [
    "\n",
    "#### Funcion que calcula el error RMS (RMSEn)\n",
    "* Parametros: Serie observada, y serie Corregida\n",
    "* retorno: error RMSEn\n",
    "▼"
   ]
  },
  {
   "cell_type": "code",
   "execution_count": 14,
   "metadata": {},
   "outputs": [],
   "source": [
    "def RMSEn(ser_obser,ser_modif):\n",
    "    n=len(ser_modif)\n",
    "    ser_obs=np.array(ser_obser['IDEAM'])\n",
    "    ser_mod=np.array(ser_modif['NREL'])\n",
    "    sumatoria=(np.sum((ser_obs-ser_mod)**2))\n",
    "    x_obs_max=np.max(ser_obs)\n",
    "    x_obs_min=np.min(ser_obs)\n",
    "    rmsen=(np.sqrt((1/n)*sumatoria))/(x_obs_max-x_obs_min)\n",
    "    return rmsen"
   ]
  },
  {
   "cell_type": "markdown",
   "metadata": {},
   "source": [
    "\n",
    "#### Funcion que calcula el error de sesgo medio (MBE)\n",
    "* Parametros: Serie observada, y serie Corregida\n",
    "* retorno: error de sesgo medio\n",
    "▼"
   ]
  },
  {
   "cell_type": "code",
   "execution_count": 15,
   "metadata": {},
   "outputs": [],
   "source": [
    "def MBE(ser_obser,ser_modif):\n",
    "    ser_obs=np.array(ser_obser['IDEAM'])\n",
    "    ser_mod=np.array(ser_modif['NREL'])\n",
    "    sumatoria=(np.sum(ser_mod-ser_obs))\n",
    "    sum_x_obs=(np.sum(ser_obs))\n",
    "    mbe=sumatoria/sum_x_obs\n",
    "    return mbe"
   ]
  },
  {
   "cell_type": "markdown",
   "metadata": {},
   "source": [
    "\n",
    "#### Funcion que calcula el índice de Kolmogorov-Smagorinski \n",
    "* Parametros: Serie observada, y serie Corregida\n",
    "* retorno: KSI\n",
    "▼"
   ]
  },
  {
   "cell_type": "code",
   "execution_count": 16,
   "metadata": {},
   "outputs": [],
   "source": [
    "def KSI(ser_obs,ser_mod):\n",
    "       \n",
    "    ser_obser=np.array(ser_obs['IDEAM'])\n",
    "    ser_modif=np.array(ser_mod['NREL'])\n",
    "    ksi_1=st.ks_2samp(ser_obser,ser_modif)\n",
    "    ksi=np.array(ksi_1)\n",
    "    return ksi[0]"
   ]
  },
  {
   "cell_type": "markdown",
   "metadata": {},
   "source": [
    "\n",
    "#### Funcion que utiliza las funciones anteriores para generar una gráfica y calcular los errores de una serie corregida por un periodo de tiempo\n",
    "* Parametros: Ciudad, año de inicio, año de finalización, mes de inicio, y mes de finalización\n",
    "* retorno: Grafica, ENFICC de la serie NREL, ENFICC de la serie corregida y Errores de la serie corregida\n",
    "▼"
   ]
  },
  {
   "cell_type": "code",
   "execution_count": 17,
   "metadata": {},
   "outputs": [],
   "source": [
    "def estimacion(ciudad,agno_ini, agno_fin, mes_ini, mes_fin):\n",
    "    ser_sat=ser_dat(ciudad,'NREL')\n",
    "    print ('La ENFICC 99% es de:',percen(ser_sat),'en la ciudad de:',\n",
    "           ciudad,'antes de realizar la corrección')\n",
    "    city(ciudad,agno_ini, agno_fin, mes_ini, mes_fin)\n",
    "    ser_mod=ser_correg(ciudad,agno_ini, agno_fin, mes_ini, mes_fin)\n",
    "    \n",
    "    \n",
    "    ser_obser=ser_dat(ciudad,'IDEAM')\n",
    "    \n",
    "    ser_max=np.max(np.array(ser_obser['AÑO']))\n",
    "    ser_min=np.min(np.array(ser_obser['AÑO']))\n",
    "    \n",
    "    ser_modif=recortes(ser_mod, ser_min, ser_max, 1, 12)\n",
    "    \n",
    "    print ('La ENFICC 99% de la serie corregida es:',percen(ser_mod),\n",
    "           'en la ciudad de:',ciudad)\n",
    "    \n",
    "    print ('RMSEn es:',RMSEn(ser_obser,ser_modif)*100,'%',\n",
    "           ', MBE es:',MBE(ser_obser,ser_modif)*100,'%', \n",
    "           'y KSI es:', KSI(ser_obser,ser_modif)*100,'%')"
   ]
  },
  {
   "cell_type": "markdown",
   "metadata": {},
   "source": [
    "\n",
    "#### Funcion que utiliza la tabla anteriormente creada, y añade el RMSEn, MBE, KSI y el periodo de tiempo con el cual se calculó estos valores\n",
    "* Parametros: Ciudad, año de inicio, año de finalización, mes de inicio, y mes de finalización\n",
    "* retorno: Tabla con la ciudad y distintos parámetros del error de la serie corregida\n",
    "▼"
   ]
  },
  {
   "cell_type": "code",
   "execution_count": 18,
   "metadata": {},
   "outputs": [],
   "source": [
    "def table(ciudad,agno_ini, agno_fin, mes_ini, mes_fin):\n",
    "   \n",
    "    ser_mod=ser_correg(ciudad,agno_ini, agno_fin, mes_ini, mes_fin)\n",
    "    ser_obser=ser_dat(ciudad,'IDEAM')\n",
    "    ser_max=np.max(np.array(ser_obser['AÑO']))\n",
    "    ser_min=np.min(np.array(ser_obser['AÑO']))\n",
    "    \n",
    "    ser_modif=recortes(ser_mod, ser_min, ser_max, 1, 12)\n",
    "    \n",
    "    df=pd.DataFrame([[ciudad,percen(ser_mod),RMSEn(ser_obser,ser_modif)*100,\n",
    "                     MBE(ser_obser,ser_modif)*100,\n",
    "                     KSI(ser_obser,ser_modif)*100,agno_ini, agno_fin, mes_ini,\n",
    "                     mes_fin]],columns=('CIUDAD','ENFICC','RMSNe %','MBE %',\n",
    "                     'KSI %','AÑO INICIO','AÑO FIN','MES INICIO','MES FIN'))\n",
    "    global tabla\n",
    "    tabla=tabla.append(df)\n",
    "    return tabla"
   ]
  },
  {
   "cell_type": "markdown",
   "metadata": {},
   "source": [
    "\n",
    "#### Implementación de las funciones previamente definidas para cada una de las ciudades\n",
    "### Barranquilla"
   ]
  },
  {
   "cell_type": "code",
   "execution_count": 19,
   "metadata": {
    "scrolled": true
   },
   "outputs": [
    {
     "name": "stdout",
     "output_type": "stream",
     "text": [
      "La ENFICC 99% es de: 4.60594683333 en la ciudad de: Barranquilla antes de realizar la corrección\n",
      "La ENFICC 99% de la serie corregida es: 4.64694048266 en la ciudad de: Barranquilla\n",
      "RMSEn es: 10.8055186766 % , MBE es: 4.88930404576 % y KSI es: 3.0750798722 %\n"
     ]
    },
    {
     "data": {
      "image/png": "[encoded data removed]",
      "text/plain": [
       "<matplotlib.figure.Figure at 0x7f5fc098b8d0>"
      ]
     },
     "metadata": {},
     "output_type": "display_data"
    }
   ],
   "source": [
    "estimacion('Barranquilla',2010, 2012, 10, 2)"
   ]
  },
  {
   "cell_type": "markdown",
   "metadata": {},
   "source": [
    "Como se puede apreciar, La ENFICC se modificó comparando antes y despues de la correción, en el caso de la ciudad de Barranquilla, la ENFICC se incrementó, ya que NREL estimó por debajo a lo real de la ciudad.\n",
    "\n",
    "### Cali"
   ]
  },
  {
   "cell_type": "code",
   "execution_count": 20,
   "metadata": {},
   "outputs": [
    {
     "name": "stdout",
     "output_type": "stream",
     "text": [
      "La ENFICC 99% es de: 4.36085916667 en la ciudad de: Cali antes de realizar la corrección\n",
      "La ENFICC 99% de la serie corregida es: 3.74548387046 en la ciudad de: Cali\n",
      "RMSEn es: 10.2664468898 % , MBE es: 2.76062724082 % y KSI es: 4.0259608559 %\n"
     ]
    },
    {
     "data": {
      "image/png": "[encoded data removed]",
      "text/plain": [
       "<matplotlib.figure.Figure at 0x7f5fc0592390>"
      ]
     },
     "metadata": {},
     "output_type": "display_data"
    }
   ],
   "source": [
    "estimacion('Cali',2007, 2009, 10, 2)"
   ]
  },
  {
   "cell_type": "markdown",
   "metadata": {},
   "source": [
    "En el caso de la ciudad de Cali, la ENFICC disminuyó, esto quiere decir que el NREL estaba sobreestimando los valores de la energía.\n",
    "\n",
    "### Carmen de Bolívar"
   ]
  },
  {
   "cell_type": "code",
   "execution_count": 21,
   "metadata": {},
   "outputs": [
    {
     "name": "stdout",
     "output_type": "stream",
     "text": [
      "La ENFICC 99% es de: 4.2736665 en la ciudad de: Carmendebolivar antes de realizar la corrección\n",
      "La ENFICC 99% de la serie corregida es: 4.61622201494 en la ciudad de: Carmendebolivar\n",
      "RMSEn es: 10.9257975437 % , MBE es: 12.2269116662 % y KSI es: 4.79540614542 %\n"
     ]
    },
    {
     "data": {
      "image/png": "[encoded data removed]",
      "text/plain": [
       "<matplotlib.figure.Figure at 0x7f5fc0519780>"
      ]
     },
     "metadata": {},
     "output_type": "display_data"
    }
   ],
   "source": [
    "estimacion('Carmendebolivar',2007, 2009, 10, 2)"
   ]
  },
  {
   "cell_type": "markdown",
   "metadata": {},
   "source": [
    "Como se puede apreciar en la gráfica anterior, en el Carmen de Bolivar, la corregida subió la energía de la ENFICC.\n",
    "\n",
    "\n",
    "#### Los comentarios de las siguientes gráficas se omiten ya que es lo mismo de las anteriores, al final hay más explicación en conjunto a la tabla\n",
    "\n",
    "### Medellín"
   ]
  },
  {
   "cell_type": "code",
   "execution_count": 22,
   "metadata": {},
   "outputs": [
    {
     "name": "stdout",
     "output_type": "stream",
     "text": [
      "La ENFICC 99% es de: 4.32600282796 en la ciudad de: Medellin antes de realizar la corrección\n",
      "La ENFICC 99% de la serie corregida es: 3.70865883889 en la ciudad de: Medellin\n",
      "RMSEn es: 10.1084254544 % , MBE es: 2.97496533738 % y KSI es: 2.94701533406 %\n"
     ]
    },
    {
     "data": {
      "image/png": "[encoded data removed]",
      "text/plain": [
       "<matplotlib.figure.Figure at 0x7f5fc0529f60>"
      ]
     },
     "metadata": {},
     "output_type": "display_data"
    }
   ],
   "source": [
    "estimacion('Medellin',2007, 2009, 10, 2)"
   ]
  },
  {
   "cell_type": "markdown",
   "metadata": {},
   "source": [
    "\n",
    "### Santa Marta"
   ]
  },
  {
   "cell_type": "code",
   "execution_count": 23,
   "metadata": {},
   "outputs": [
    {
     "name": "stdout",
     "output_type": "stream",
     "text": [
      "La ENFICC 99% es de: 4.536077 en la ciudad de: SantaMarta antes de realizar la corrección\n",
      "La ENFICC 99% de la serie corregida es: 4.18407376566 en la ciudad de: SantaMarta\n",
      "RMSEn es: 8.2471738878 % , MBE es: -3.79803509735 % y KSI es: 2.95317134383 %\n"
     ]
    },
    {
     "data": {
      "image/png": "[encoded data removed]",
      "text/plain": [
       "<matplotlib.figure.Figure at 0x7f5fc051f7b8>"
      ]
     },
     "metadata": {},
     "output_type": "display_data"
    }
   ],
   "source": [
    "estimacion('SantaMarta',2008, 2010, 10, 2)"
   ]
  },
  {
   "cell_type": "markdown",
   "metadata": {},
   "source": [
    "\n",
    "### Sucre"
   ]
  },
  {
   "cell_type": "code",
   "execution_count": 24,
   "metadata": {},
   "outputs": [
    {
     "name": "stdout",
     "output_type": "stream",
     "text": [
      "La ENFICC 99% es de: 4.8399985 en la ciudad de: Sucre antes de realizar la corrección\n",
      "La ENFICC 99% de la serie corregida es: 4.38745331611 en la ciudad de: Sucre\n",
      "RMSEn es: 10.8717987762 % , MBE es: 6.49314835857 % y KSI es: 3.74794633078 %\n"
     ]
    },
    {
     "data": {
      "image/png": "[encoded data removed]",
      "text/plain": [
       "<matplotlib.figure.Figure at 0x7f5fc018a8d0>"
      ]
     },
     "metadata": {},
     "output_type": "display_data"
    }
   ],
   "source": [
    "estimacion('Sucre',2007, 2009, 10, 2)"
   ]
  },
  {
   "cell_type": "markdown",
   "metadata": {},
   "source": [
    "\n",
    "### Uribia"
   ]
  },
  {
   "cell_type": "code",
   "execution_count": 25,
   "metadata": {},
   "outputs": [
    {
     "name": "stdout",
     "output_type": "stream",
     "text": [
      "La ENFICC 99% es de: 4.62250183333 en la ciudad de: Uribia antes de realizar la corrección\n",
      "La ENFICC 99% de la serie corregida es: 4.337570086 en la ciudad de: Uribia\n",
      "RMSEn es: 11.1784031681 % , MBE es: 1.96163971535 % y KSI es: 2.13809784593 %\n"
     ]
    },
    {
     "data": {
      "image/png": "[encoded data removed]",
      "text/plain": [
       "<matplotlib.figure.Figure at 0x7f5fc05cdc50>"
      ]
     },
     "metadata": {},
     "output_type": "display_data"
    }
   ],
   "source": [
    "estimacion('Uribia',2007, 2009, 10, 2)"
   ]
  },
  {
   "cell_type": "markdown",
   "metadata": {},
   "source": [
    "\n",
    "### Valledupar"
   ]
  },
  {
   "cell_type": "code",
   "execution_count": 26,
   "metadata": {},
   "outputs": [
    {
     "name": "stdout",
     "output_type": "stream",
     "text": [
      "La ENFICC 99% es de: 5.06265316667 en la ciudad de: Valledupar antes de realizar la corrección\n",
      "La ENFICC 99% de la serie corregida es: 4.68163494087 en la ciudad de: Valledupar\n",
      "RMSEn es: 8.41038536235 % , MBE es: 3.25607114197 % y KSI es: 2.11527929901 %\n"
     ]
    },
    {
     "data": {
      "image/png": "[encoded data removed]",
      "text/plain": [
       "<matplotlib.figure.Figure at 0x7f5fc0561240>"
      ]
     },
     "metadata": {},
     "output_type": "display_data"
    }
   ],
   "source": [
    "estimacion('Valledupar',2007, 2009, 10, 2)"
   ]
  },
  {
   "cell_type": "markdown",
   "metadata": {},
   "source": [
    "\n",
    "#### Esta es la implementación de la tabla, en la cual para cada ciudad se tomó un periodo con el fenómeno de la niña, 3 periodos de la misma longitud pero distinto inicio, y 3 periodos con mismo inicio, pero distinta longitud"
   ]
  },
  {
   "cell_type": "code",
   "execution_count": 27,
   "metadata": {},
   "outputs": [],
   "source": [
    "#Entre el año 2010 y 2011 ocurrió un fenomeno de la niña\n",
    "table('Barranquilla',2010, 2011, 10, 3);\n",
    "\n",
    "#se escogió distintos años para empezar, pero con la misma longitud\n",
    "table('Barranquilla',2012, 2013, 3, 10);\n",
    "table('Barranquilla',2011, 2012, 3, 10);\n",
    "table('Barranquilla',2013, 2014, 3, 10);\n",
    "\n",
    "#Las últimas 3 iteraciones empezaban desde el mismo año, pero teniendo una\n",
    "#longitud distinta\n",
    "table('Barranquilla',2011, 2012, 4, 10);\n",
    "table('Barranquilla',2011, 2013, 4, 10);\n",
    "table('Barranquilla',2011, 2014, 4, 10);"
   ]
  },
  {
   "cell_type": "code",
   "execution_count": 28,
   "metadata": {},
   "outputs": [],
   "source": [
    "#Entre el año 2010 y 2011 ocurrió un fenomeno de la niña\n",
    "table('Cali',2010, 2011, 10, 3);\n",
    "\n",
    "#se escogió distintos años para empezar, pero con la misma longitud\n",
    "table('Cali',2007, 2008, 3, 10);\n",
    "table('Cali',2008, 2009, 3, 10);\n",
    "table('Cali',2009, 2010, 3, 10);\n",
    "\n",
    "#Las últimas 3 iteraciones empezaban desde el mismo año, pero teniendo una\n",
    "#longitud distinta\n",
    "table('Cali',2007, 2008, 4, 10);\n",
    "table('Cali',2007, 2009, 4, 10);\n",
    "table('Cali',2007, 2010, 4, 10);"
   ]
  },
  {
   "cell_type": "code",
   "execution_count": 29,
   "metadata": {},
   "outputs": [],
   "source": [
    "#Entre el año 2010 y 2011 ocurrió un fenomeno de la niña\n",
    "table('Carmendebolivar',2010, 2011, 10, 3);\n",
    "\n",
    "#se escogió distintos años para empezar, pero con la misma longitud\n",
    "table('Carmendebolivar',2007, 2008, 3, 10);\n",
    "table('Carmendebolivar',2008, 2009, 3, 10);\n",
    "table('Carmendebolivar',2009, 2010, 3, 10);\n",
    "\n",
    "#Las últimas 3 iteraciones empezaban desde el mismo año, pero teniendo una\n",
    "#longitud distinta\n",
    "table('Carmendebolivar',2007, 2008, 4, 10);\n",
    "table('Carmendebolivar',2007, 2009, 4, 10);\n",
    "table('Carmendebolivar',2007, 2010, 4, 10);"
   ]
  },
  {
   "cell_type": "code",
   "execution_count": 30,
   "metadata": {},
   "outputs": [],
   "source": [
    "#Entre el año 2010 y 2011 ocurrió un fenomeno de la niña\n",
    "table('Medellin',2010, 2011, 10, 3);\n",
    "\n",
    "#se escogió distintos años para empezar, pero con la misma longitud\n",
    "table('Medellin',2007, 2008, 3, 10);\n",
    "table('Medellin',2008, 2009, 3, 10);\n",
    "table('Medellin',2009, 2010, 3, 10);\n",
    "\n",
    "#Las últimas 3 iteraciones empezaban desde el mismo año, pero teniendo una\n",
    "#longitud distinta\n",
    "table('Medellin',2007, 2008, 4, 10);\n",
    "table('Medellin',2007, 2009, 4, 10);\n",
    "table('Medellin',2007, 2010, 4, 10);"
   ]
  },
  {
   "cell_type": "code",
   "execution_count": 31,
   "metadata": {},
   "outputs": [],
   "source": [
    "#Entre el año 2010 y 2011 ocurrió un fenomeno de la niña\n",
    "table('SantaMarta',2010, 2011, 10, 3);\n",
    "\n",
    "#se escogió distintos años para empezar, pero con la misma longitud\n",
    "table('SantaMarta',2008, 2009, 3, 10);\n",
    "table('SantaMarta',2009, 2010, 3, 10);\n",
    "table('SantaMarta',2011, 2012, 3, 10);\n",
    "\n",
    "#Las últimas 3 iteraciones empezaban desde el mismo año, pero teniendo una\n",
    "#longitud distinta\n",
    "table('SantaMarta',2008, 2009, 4, 10);\n",
    "table('SantaMarta',2008, 2010, 4, 10);\n",
    "table('SantaMarta',2008, 2011, 4, 10);"
   ]
  },
  {
   "cell_type": "code",
   "execution_count": 32,
   "metadata": {},
   "outputs": [],
   "source": [
    "#Entre el año 2010 y 2011 ocurrió un fenomeno de la niña\n",
    "table('Sucre',2010, 2011, 10, 3);\n",
    "\n",
    "#se escogió distintos años para empezar, pero con la misma longitud\n",
    "table('Sucre',2007, 2008, 3, 10);\n",
    "table('Sucre',2008, 2009, 3, 10);\n",
    "table('Sucre',2009, 2010, 3, 10);\n",
    "\n",
    "#Las últimas 3 iteraciones empezaban desde el mismo año, pero teniendo una\n",
    "#longitud distinta\n",
    "table('Sucre',2007, 2008, 4, 10);\n",
    "table('Sucre',2007, 2009, 4, 10);\n",
    "table('Sucre',2007, 2010, 4, 10);"
   ]
  },
  {
   "cell_type": "code",
   "execution_count": 33,
   "metadata": {},
   "outputs": [],
   "source": [
    "#Entre el año 2010 y 2011 ocurrió un fenomeno de la niña\n",
    "table('Uribia',2010, 2011, 10, 3);\n",
    "\n",
    "#se escogió distintos años para empezar, pero con la misma longitud\n",
    "table('Uribia',2007, 2008, 3, 10);\n",
    "table('Uribia',2008, 2009, 3, 10);\n",
    "table('Uribia',2009, 2010, 3, 10);\n",
    "\n",
    "#Las últimas 3 iteraciones empezaban desde el mismo año, pero teniendo una\n",
    "#longitud distinta\n",
    "table('Uribia',2007, 2008, 4, 10);\n",
    "table('Uribia',2007, 2009, 4, 10);\n",
    "table('Uribia',2007, 2010, 4, 10);"
   ]
  },
  {
   "cell_type": "code",
   "execution_count": 34,
   "metadata": {},
   "outputs": [
    {
     "data": {
      "text/html": [
       "<div>\n",
       "<style>\n",
       "    .dataframe thead tr:only-child th {\n",
       "        text-align: right;\n",
       "    }\n",
       "\n",
       "    .dataframe thead th {\n",
       "        text-align: left;\n",
       "    }\n",
       "\n",
       "    .dataframe tbody tr th {\n",
       "        vertical-align: top;\n",
       "    }\n",
       "</style>\n",
       "<table border=\"1\" class=\"dataframe\">\n",
       "  <thead>\n",
       "    <tr style=\"text-align: right;\">\n",
       "      <th></th>\n",
       "      <th>CIUDAD</th>\n",
       "      <th>ENFICC</th>\n",
       "      <th>RMSNe %</th>\n",
       "      <th>MBE %</th>\n",
       "      <th>KSI %</th>\n",
       "      <th>AÑO INICIO</th>\n",
       "      <th>AÑO FIN</th>\n",
       "      <th>MES INICIO</th>\n",
       "      <th>MES FIN</th>\n",
       "    </tr>\n",
       "  </thead>\n",
       "  <tbody>\n",
       "    <tr>\n",
       "      <th>0</th>\n",
       "      <td>Barranquilla</td>\n",
       "      <td>4.748758</td>\n",
       "      <td>10.982540</td>\n",
       "      <td>7.133771</td>\n",
       "      <td>3.727370</td>\n",
       "      <td>2010</td>\n",
       "      <td>2011</td>\n",
       "      <td>10</td>\n",
       "      <td>3</td>\n",
       "    </tr>\n",
       "    <tr>\n",
       "      <th>0</th>\n",
       "      <td>Barranquilla</td>\n",
       "      <td>4.426101</td>\n",
       "      <td>10.525487</td>\n",
       "      <td>-0.053670</td>\n",
       "      <td>2.375247</td>\n",
       "      <td>2012</td>\n",
       "      <td>2013</td>\n",
       "      <td>3</td>\n",
       "      <td>10</td>\n",
       "    </tr>\n",
       "    <tr>\n",
       "      <th>0</th>\n",
       "      <td>Barranquilla</td>\n",
       "      <td>4.474499</td>\n",
       "      <td>10.572703</td>\n",
       "      <td>1.034900</td>\n",
       "      <td>2.375247</td>\n",
       "      <td>2011</td>\n",
       "      <td>2012</td>\n",
       "      <td>3</td>\n",
       "      <td>10</td>\n",
       "    </tr>\n",
       "    <tr>\n",
       "      <th>0</th>\n",
       "      <td>Barranquilla</td>\n",
       "      <td>4.267475</td>\n",
       "      <td>10.463880</td>\n",
       "      <td>-3.387316</td>\n",
       "      <td>3.444013</td>\n",
       "      <td>2013</td>\n",
       "      <td>2014</td>\n",
       "      <td>3</td>\n",
       "      <td>10</td>\n",
       "    </tr>\n",
       "    <tr>\n",
       "      <th>0</th>\n",
       "      <td>Barranquilla</td>\n",
       "      <td>4.455734</td>\n",
       "      <td>10.556129</td>\n",
       "      <td>0.627638</td>\n",
       "      <td>2.375247</td>\n",
       "      <td>2011</td>\n",
       "      <td>2012</td>\n",
       "      <td>4</td>\n",
       "      <td>10</td>\n",
       "    </tr>\n",
       "    <tr>\n",
       "      <th>0</th>\n",
       "      <td>Barranquilla</td>\n",
       "      <td>4.481625</td>\n",
       "      <td>10.579275</td>\n",
       "      <td>1.189438</td>\n",
       "      <td>2.375247</td>\n",
       "      <td>2011</td>\n",
       "      <td>2013</td>\n",
       "      <td>4</td>\n",
       "      <td>10</td>\n",
       "    </tr>\n",
       "    <tr>\n",
       "      <th>0</th>\n",
       "      <td>Barranquilla</td>\n",
       "      <td>4.400259</td>\n",
       "      <td>10.525404</td>\n",
       "      <td>-0.510085</td>\n",
       "      <td>2.612962</td>\n",
       "      <td>2011</td>\n",
       "      <td>2014</td>\n",
       "      <td>4</td>\n",
       "      <td>10</td>\n",
       "    </tr>\n",
       "    <tr>\n",
       "      <th>0</th>\n",
       "      <td>Cali</td>\n",
       "      <td>3.585291</td>\n",
       "      <td>10.096781</td>\n",
       "      <td>-1.551831</td>\n",
       "      <td>4.378359</td>\n",
       "      <td>2010</td>\n",
       "      <td>2011</td>\n",
       "      <td>10</td>\n",
       "      <td>3</td>\n",
       "    </tr>\n",
       "    <tr>\n",
       "      <th>0</th>\n",
       "      <td>Cali</td>\n",
       "      <td>3.724591</td>\n",
       "      <td>10.240464</td>\n",
       "      <td>2.213255</td>\n",
       "      <td>4.146385</td>\n",
       "      <td>2007</td>\n",
       "      <td>2008</td>\n",
       "      <td>3</td>\n",
       "      <td>10</td>\n",
       "    </tr>\n",
       "    <tr>\n",
       "      <th>0</th>\n",
       "      <td>Cali</td>\n",
       "      <td>3.741649</td>\n",
       "      <td>10.257338</td>\n",
       "      <td>2.642923</td>\n",
       "      <td>4.022158</td>\n",
       "      <td>2008</td>\n",
       "      <td>2009</td>\n",
       "      <td>3</td>\n",
       "      <td>10</td>\n",
       "    </tr>\n",
       "    <tr>\n",
       "      <th>0</th>\n",
       "      <td>Cali</td>\n",
       "      <td>3.696788</td>\n",
       "      <td>10.183814</td>\n",
       "      <td>1.371943</td>\n",
       "      <td>3.820606</td>\n",
       "      <td>2009</td>\n",
       "      <td>2010</td>\n",
       "      <td>3</td>\n",
       "      <td>10</td>\n",
       "    </tr>\n",
       "    <tr>\n",
       "      <th>0</th>\n",
       "      <td>Cali</td>\n",
       "      <td>3.728852</td>\n",
       "      <td>10.247588</td>\n",
       "      <td>2.333190</td>\n",
       "      <td>4.165399</td>\n",
       "      <td>2007</td>\n",
       "      <td>2008</td>\n",
       "      <td>4</td>\n",
       "      <td>10</td>\n",
       "    </tr>\n",
       "    <tr>\n",
       "      <th>0</th>\n",
       "      <td>Cali</td>\n",
       "      <td>3.738935</td>\n",
       "      <td>10.253254</td>\n",
       "      <td>2.569063</td>\n",
       "      <td>4.022158</td>\n",
       "      <td>2007</td>\n",
       "      <td>2009</td>\n",
       "      <td>4</td>\n",
       "      <td>10</td>\n",
       "    </tr>\n",
       "    <tr>\n",
       "      <th>0</th>\n",
       "      <td>Cali</td>\n",
       "      <td>3.722828</td>\n",
       "      <td>10.225688</td>\n",
       "      <td>2.113087</td>\n",
       "      <td>3.937227</td>\n",
       "      <td>2007</td>\n",
       "      <td>2010</td>\n",
       "      <td>4</td>\n",
       "      <td>10</td>\n",
       "    </tr>\n",
       "    <tr>\n",
       "      <th>0</th>\n",
       "      <td>Carmendebolivar</td>\n",
       "      <td>4.412118</td>\n",
       "      <td>10.270467</td>\n",
       "      <td>6.798358</td>\n",
       "      <td>49.264780</td>\n",
       "      <td>2010</td>\n",
       "      <td>2011</td>\n",
       "      <td>10</td>\n",
       "      <td>3</td>\n",
       "    </tr>\n",
       "    <tr>\n",
       "      <th>0</th>\n",
       "      <td>Carmendebolivar</td>\n",
       "      <td>4.552020</td>\n",
       "      <td>10.773373</td>\n",
       "      <td>10.740129</td>\n",
       "      <td>4.363148</td>\n",
       "      <td>2007</td>\n",
       "      <td>2008</td>\n",
       "      <td>3</td>\n",
       "      <td>10</td>\n",
       "    </tr>\n",
       "    <tr>\n",
       "      <th>0</th>\n",
       "      <td>Carmendebolivar</td>\n",
       "      <td>4.618130</td>\n",
       "      <td>10.897077</td>\n",
       "      <td>12.173789</td>\n",
       "      <td>4.739631</td>\n",
       "      <td>2008</td>\n",
       "      <td>2009</td>\n",
       "      <td>3</td>\n",
       "      <td>10</td>\n",
       "    </tr>\n",
       "    <tr>\n",
       "      <th>0</th>\n",
       "      <td>Carmendebolivar</td>\n",
       "      <td>4.669503</td>\n",
       "      <td>10.993483</td>\n",
       "      <td>13.273154</td>\n",
       "      <td>5.019775</td>\n",
       "      <td>2009</td>\n",
       "      <td>2010</td>\n",
       "      <td>3</td>\n",
       "      <td>10</td>\n",
       "    </tr>\n",
       "    <tr>\n",
       "      <th>0</th>\n",
       "      <td>Carmendebolivar</td>\n",
       "      <td>4.562768</td>\n",
       "      <td>10.808210</td>\n",
       "      <td>11.019603</td>\n",
       "      <td>4.450614</td>\n",
       "      <td>2007</td>\n",
       "      <td>2008</td>\n",
       "      <td>4</td>\n",
       "      <td>10</td>\n",
       "    </tr>\n",
       "    <tr>\n",
       "      <th>0</th>\n",
       "      <td>Carmendebolivar</td>\n",
       "      <td>4.603585</td>\n",
       "      <td>10.881890</td>\n",
       "      <td>11.895769</td>\n",
       "      <td>4.676250</td>\n",
       "      <td>2007</td>\n",
       "      <td>2009</td>\n",
       "      <td>4</td>\n",
       "      <td>10</td>\n",
       "    </tr>\n",
       "    <tr>\n",
       "      <th>0</th>\n",
       "      <td>Carmendebolivar</td>\n",
       "      <td>4.624014</td>\n",
       "      <td>10.918085</td>\n",
       "      <td>12.329290</td>\n",
       "      <td>4.796674</td>\n",
       "      <td>2007</td>\n",
       "      <td>2010</td>\n",
       "      <td>4</td>\n",
       "      <td>10</td>\n",
       "    </tr>\n",
       "    <tr>\n",
       "      <th>0</th>\n",
       "      <td>Medellin</td>\n",
       "      <td>3.425882</td>\n",
       "      <td>9.841453</td>\n",
       "      <td>-5.437332</td>\n",
       "      <td>50.120938</td>\n",
       "      <td>2010</td>\n",
       "      <td>2011</td>\n",
       "      <td>10</td>\n",
       "      <td>3</td>\n",
       "    </tr>\n",
       "    <tr>\n",
       "      <th>0</th>\n",
       "      <td>Medellin</td>\n",
       "      <td>3.682943</td>\n",
       "      <td>10.091039</td>\n",
       "      <td>2.352369</td>\n",
       "      <td>3.192315</td>\n",
       "      <td>2007</td>\n",
       "      <td>2008</td>\n",
       "      <td>3</td>\n",
       "      <td>10</td>\n",
       "    </tr>\n",
       "    <tr>\n",
       "      <th>0</th>\n",
       "      <td>Medellin</td>\n",
       "      <td>3.670276</td>\n",
       "      <td>10.045907</td>\n",
       "      <td>1.875104</td>\n",
       "      <td>2.769031</td>\n",
       "      <td>2008</td>\n",
       "      <td>2009</td>\n",
       "      <td>3</td>\n",
       "      <td>10</td>\n",
       "    </tr>\n",
       "    <tr>\n",
       "      <th>0</th>\n",
       "      <td>Medellin</td>\n",
       "      <td>3.573692</td>\n",
       "      <td>9.912111</td>\n",
       "      <td>-0.980612</td>\n",
       "      <td>2.085615</td>\n",
       "      <td>2009</td>\n",
       "      <td>2010</td>\n",
       "      <td>3</td>\n",
       "      <td>10</td>\n",
       "    </tr>\n",
       "    <tr>\n",
       "      <th>0</th>\n",
       "      <td>Medellin</td>\n",
       "      <td>3.696234</td>\n",
       "      <td>10.111028</td>\n",
       "      <td>2.722859</td>\n",
       "      <td>3.192315</td>\n",
       "      <td>2007</td>\n",
       "      <td>2008</td>\n",
       "      <td>4</td>\n",
       "      <td>10</td>\n",
       "    </tr>\n",
       "    <tr>\n",
       "      <th>0</th>\n",
       "      <td>Medellin</td>\n",
       "      <td>3.668260</td>\n",
       "      <td>10.049141</td>\n",
       "      <td>1.847006</td>\n",
       "      <td>2.868291</td>\n",
       "      <td>2007</td>\n",
       "      <td>2009</td>\n",
       "      <td>4</td>\n",
       "      <td>10</td>\n",
       "    </tr>\n",
       "    <tr>\n",
       "      <th>0</th>\n",
       "      <td>Medellin</td>\n",
       "      <td>3.638112</td>\n",
       "      <td>9.998663</td>\n",
       "      <td>0.946519</td>\n",
       "      <td>2.666347</td>\n",
       "      <td>2007</td>\n",
       "      <td>2010</td>\n",
       "      <td>4</td>\n",
       "      <td>10</td>\n",
       "    </tr>\n",
       "    <tr>\n",
       "      <th>0</th>\n",
       "      <td>SantaMarta</td>\n",
       "      <td>4.111634</td>\n",
       "      <td>8.260731</td>\n",
       "      <td>-5.215243</td>\n",
       "      <td>3.276865</td>\n",
       "      <td>2010</td>\n",
       "      <td>2011</td>\n",
       "      <td>10</td>\n",
       "      <td>3</td>\n",
       "    </tr>\n",
       "    <tr>\n",
       "      <th>0</th>\n",
       "      <td>SantaMarta</td>\n",
       "      <td>4.224150</td>\n",
       "      <td>8.250626</td>\n",
       "      <td>-2.960474</td>\n",
       "      <td>2.713609</td>\n",
       "      <td>2008</td>\n",
       "      <td>2009</td>\n",
       "      <td>3</td>\n",
       "      <td>10</td>\n",
       "    </tr>\n",
       "    <tr>\n",
       "      <th>0</th>\n",
       "      <td>SantaMarta</td>\n",
       "      <td>4.180800</td>\n",
       "      <td>8.241711</td>\n",
       "      <td>-3.915306</td>\n",
       "      <td>3.015914</td>\n",
       "      <td>2009</td>\n",
       "      <td>2010</td>\n",
       "      <td>3</td>\n",
       "      <td>10</td>\n",
       "    </tr>\n",
       "    <tr>\n",
       "      <th>0</th>\n",
       "      <td>SantaMarta</td>\n",
       "      <td>4.211439</td>\n",
       "      <td>8.245387</td>\n",
       "      <td>-3.257803</td>\n",
       "      <td>2.830538</td>\n",
       "      <td>2011</td>\n",
       "      <td>2012</td>\n",
       "      <td>3</td>\n",
       "      <td>10</td>\n",
       "    </tr>\n",
       "    <tr>\n",
       "      <th>0</th>\n",
       "      <td>SantaMarta</td>\n",
       "      <td>4.242624</td>\n",
       "      <td>8.258494</td>\n",
       "      <td>-2.535551</td>\n",
       "      <td>2.595254</td>\n",
       "      <td>2008</td>\n",
       "      <td>2009</td>\n",
       "      <td>4</td>\n",
       "      <td>10</td>\n",
       "    </tr>\n",
       "    <tr>\n",
       "      <th>0</th>\n",
       "      <td>SantaMarta</td>\n",
       "      <td>4.208399</td>\n",
       "      <td>8.246614</td>\n",
       "      <td>-3.308112</td>\n",
       "      <td>2.831964</td>\n",
       "      <td>2008</td>\n",
       "      <td>2010</td>\n",
       "      <td>4</td>\n",
       "      <td>10</td>\n",
       "    </tr>\n",
       "    <tr>\n",
       "      <th>0</th>\n",
       "      <td>SantaMarta</td>\n",
       "      <td>4.215696</td>\n",
       "      <td>8.248304</td>\n",
       "      <td>-3.147643</td>\n",
       "      <td>2.787760</td>\n",
       "      <td>2008</td>\n",
       "      <td>2011</td>\n",
       "      <td>4</td>\n",
       "      <td>10</td>\n",
       "    </tr>\n",
       "    <tr>\n",
       "      <th>0</th>\n",
       "      <td>Sucre</td>\n",
       "      <td>4.286451</td>\n",
       "      <td>10.751247</td>\n",
       "      <td>4.195222</td>\n",
       "      <td>3.449023</td>\n",
       "      <td>2010</td>\n",
       "      <td>2011</td>\n",
       "      <td>10</td>\n",
       "      <td>3</td>\n",
       "    </tr>\n",
       "    <tr>\n",
       "      <th>0</th>\n",
       "      <td>Sucre</td>\n",
       "      <td>4.441364</td>\n",
       "      <td>10.983809</td>\n",
       "      <td>7.822513</td>\n",
       "      <td>4.091365</td>\n",
       "      <td>2007</td>\n",
       "      <td>2008</td>\n",
       "      <td>3</td>\n",
       "      <td>10</td>\n",
       "    </tr>\n",
       "    <tr>\n",
       "      <th>0</th>\n",
       "      <td>Sucre</td>\n",
       "      <td>4.435853</td>\n",
       "      <td>10.962310</td>\n",
       "      <td>7.660794</td>\n",
       "      <td>4.043447</td>\n",
       "      <td>2008</td>\n",
       "      <td>2009</td>\n",
       "      <td>3</td>\n",
       "      <td>10</td>\n",
       "    </tr>\n",
       "    <tr>\n",
       "      <th>0</th>\n",
       "      <td>Sucre</td>\n",
       "      <td>4.403637</td>\n",
       "      <td>10.946037</td>\n",
       "      <td>7.012694</td>\n",
       "      <td>3.919085</td>\n",
       "      <td>2009</td>\n",
       "      <td>2010</td>\n",
       "      <td>3</td>\n",
       "      <td>10</td>\n",
       "    </tr>\n",
       "    <tr>\n",
       "      <th>0</th>\n",
       "      <td>Sucre</td>\n",
       "      <td>4.450507</td>\n",
       "      <td>10.999548</td>\n",
       "      <td>8.036212</td>\n",
       "      <td>4.133580</td>\n",
       "      <td>2007</td>\n",
       "      <td>2008</td>\n",
       "      <td>4</td>\n",
       "      <td>10</td>\n",
       "    </tr>\n",
       "    <tr>\n",
       "      <th>0</th>\n",
       "      <td>Sucre</td>\n",
       "      <td>4.444091</td>\n",
       "      <td>10.986147</td>\n",
       "      <td>7.879986</td>\n",
       "      <td>4.094788</td>\n",
       "      <td>2007</td>\n",
       "      <td>2009</td>\n",
       "      <td>4</td>\n",
       "      <td>10</td>\n",
       "    </tr>\n",
       "    <tr>\n",
       "      <th>0</th>\n",
       "      <td>Sucre</td>\n",
       "      <td>4.409468</td>\n",
       "      <td>10.936482</td>\n",
       "      <td>7.093725</td>\n",
       "      <td>3.922508</td>\n",
       "      <td>2007</td>\n",
       "      <td>2010</td>\n",
       "      <td>4</td>\n",
       "      <td>10</td>\n",
       "    </tr>\n",
       "    <tr>\n",
       "      <th>0</th>\n",
       "      <td>Uribia</td>\n",
       "      <td>4.224940</td>\n",
       "      <td>11.068705</td>\n",
       "      <td>-0.605834</td>\n",
       "      <td>3.075940</td>\n",
       "      <td>2010</td>\n",
       "      <td>2011</td>\n",
       "      <td>10</td>\n",
       "      <td>3</td>\n",
       "    </tr>\n",
       "    <tr>\n",
       "      <th>0</th>\n",
       "      <td>Uribia</td>\n",
       "      <td>4.361184</td>\n",
       "      <td>11.212251</td>\n",
       "      <td>2.526984</td>\n",
       "      <td>2.230513</td>\n",
       "      <td>2007</td>\n",
       "      <td>2008</td>\n",
       "      <td>3</td>\n",
       "      <td>10</td>\n",
       "    </tr>\n",
       "    <tr>\n",
       "      <th>0</th>\n",
       "      <td>Uribia</td>\n",
       "      <td>4.315702</td>\n",
       "      <td>11.154902</td>\n",
       "      <td>1.469526</td>\n",
       "      <td>2.308096</td>\n",
       "      <td>2008</td>\n",
       "      <td>2009</td>\n",
       "      <td>3</td>\n",
       "      <td>10</td>\n",
       "    </tr>\n",
       "    <tr>\n",
       "      <th>0</th>\n",
       "      <td>Uribia</td>\n",
       "      <td>4.328298</td>\n",
       "      <td>11.159492</td>\n",
       "      <td>1.706537</td>\n",
       "      <td>2.261318</td>\n",
       "      <td>2009</td>\n",
       "      <td>2010</td>\n",
       "      <td>3</td>\n",
       "      <td>10</td>\n",
       "    </tr>\n",
       "    <tr>\n",
       "      <th>0</th>\n",
       "      <td>Uribia</td>\n",
       "      <td>4.392809</td>\n",
       "      <td>11.255350</td>\n",
       "      <td>3.256736</td>\n",
       "      <td>2.383397</td>\n",
       "      <td>2007</td>\n",
       "      <td>2008</td>\n",
       "      <td>4</td>\n",
       "      <td>10</td>\n",
       "    </tr>\n",
       "    <tr>\n",
       "      <th>0</th>\n",
       "      <td>Uribia</td>\n",
       "      <td>4.370246</td>\n",
       "      <td>11.217367</td>\n",
       "      <td>2.701930</td>\n",
       "      <td>2.269304</td>\n",
       "      <td>2007</td>\n",
       "      <td>2009</td>\n",
       "      <td>4</td>\n",
       "      <td>10</td>\n",
       "    </tr>\n",
       "    <tr>\n",
       "      <th>0</th>\n",
       "      <td>Uribia</td>\n",
       "      <td>4.368571</td>\n",
       "      <td>11.212791</td>\n",
       "      <td>2.651467</td>\n",
       "      <td>2.251050</td>\n",
       "      <td>2007</td>\n",
       "      <td>2010</td>\n",
       "      <td>4</td>\n",
       "      <td>10</td>\n",
       "    </tr>\n",
       "    <tr>\n",
       "      <th>0</th>\n",
       "      <td>Valledupar</td>\n",
       "      <td>4.634997</td>\n",
       "      <td>8.381884</td>\n",
       "      <td>2.335391</td>\n",
       "      <td>2.243063</td>\n",
       "      <td>2010</td>\n",
       "      <td>2011</td>\n",
       "      <td>10</td>\n",
       "      <td>3</td>\n",
       "    </tr>\n",
       "    <tr>\n",
       "      <th>0</th>\n",
       "      <td>Valledupar</td>\n",
       "      <td>4.668217</td>\n",
       "      <td>8.409280</td>\n",
       "      <td>3.030894</td>\n",
       "      <td>2.192862</td>\n",
       "      <td>2007</td>\n",
       "      <td>2008</td>\n",
       "      <td>3</td>\n",
       "      <td>10</td>\n",
       "    </tr>\n",
       "    <tr>\n",
       "      <th>0</th>\n",
       "      <td>Valledupar</td>\n",
       "      <td>4.649380</td>\n",
       "      <td>8.392521</td>\n",
       "      <td>2.632358</td>\n",
       "      <td>2.211117</td>\n",
       "      <td>2008</td>\n",
       "      <td>2009</td>\n",
       "      <td>3</td>\n",
       "      <td>10</td>\n",
       "    </tr>\n",
       "    <tr>\n",
       "      <th>0</th>\n",
       "      <td>Valledupar</td>\n",
       "      <td>4.516930</td>\n",
       "      <td>8.309483</td>\n",
       "      <td>-0.172041</td>\n",
       "      <td>2.636683</td>\n",
       "      <td>2009</td>\n",
       "      <td>2010</td>\n",
       "      <td>3</td>\n",
       "      <td>10</td>\n",
       "    </tr>\n",
       "    <tr>\n",
       "      <th>0</th>\n",
       "      <td>Valledupar</td>\n",
       "      <td>4.685402</td>\n",
       "      <td>8.425341</td>\n",
       "      <td>3.393052</td>\n",
       "      <td>2.166621</td>\n",
       "      <td>2007</td>\n",
       "      <td>2008</td>\n",
       "      <td>4</td>\n",
       "      <td>10</td>\n",
       "    </tr>\n",
       "    <tr>\n",
       "      <th>0</th>\n",
       "      <td>Valledupar</td>\n",
       "      <td>4.672462</td>\n",
       "      <td>8.412776</td>\n",
       "      <td>3.118412</td>\n",
       "      <td>2.192862</td>\n",
       "      <td>2007</td>\n",
       "      <td>2009</td>\n",
       "      <td>4</td>\n",
       "      <td>10</td>\n",
       "    </tr>\n",
       "    <tr>\n",
       "      <th>0</th>\n",
       "      <td>Valledupar</td>\n",
       "      <td>4.611420</td>\n",
       "      <td>8.360378</td>\n",
       "      <td>1.816875</td>\n",
       "      <td>2.243063</td>\n",
       "      <td>2007</td>\n",
       "      <td>2010</td>\n",
       "      <td>4</td>\n",
       "      <td>10</td>\n",
       "    </tr>\n",
       "  </tbody>\n",
       "</table>\n",
       "</div>"
      ],
      "text/plain": [
       "            CIUDAD    ENFICC    RMSNe %      MBE %      KSI % AÑO INICIO  \\\n",
       "0     Barranquilla  4.748758  10.982540   7.133771   3.727370       2010   \n",
       "0     Barranquilla  4.426101  10.525487  -0.053670   2.375247       2012   \n",
       "0     Barranquilla  4.474499  10.572703   1.034900   2.375247       2011   \n",
       "0     Barranquilla  4.267475  10.463880  -3.387316   3.444013       2013   \n",
       "0     Barranquilla  4.455734  10.556129   0.627638   2.375247       2011   \n",
       "0     Barranquilla  4.481625  10.579275   1.189438   2.375247       2011   \n",
       "0     Barranquilla  4.400259  10.525404  -0.510085   2.612962       2011   \n",
       "0             Cali  3.585291  10.096781  -1.551831   4.378359       2010   \n",
       "0             Cali  3.724591  10.240464   2.213255   4.146385       2007   \n",
       "0             Cali  3.741649  10.257338   2.642923   4.022158       2008   \n",
       "0             Cali  3.696788  10.183814   1.371943   3.820606       2009   \n",
       "0             Cali  3.728852  10.247588   2.333190   4.165399       2007   \n",
       "0             Cali  3.738935  10.253254   2.569063   4.022158       2007   \n",
       "0             Cali  3.722828  10.225688   2.113087   3.937227       2007   \n",
       "0  Carmendebolivar  4.412118  10.270467   6.798358  49.264780       2010   \n",
       "0  Carmendebolivar  4.552020  10.773373  10.740129   4.363148       2007   \n",
       "0  Carmendebolivar  4.618130  10.897077  12.173789   4.739631       2008   \n",
       "0  Carmendebolivar  4.669503  10.993483  13.273154   5.019775       2009   \n",
       "0  Carmendebolivar  4.562768  10.808210  11.019603   4.450614       2007   \n",
       "0  Carmendebolivar  4.603585  10.881890  11.895769   4.676250       2007   \n",
       "0  Carmendebolivar  4.624014  10.918085  12.329290   4.796674       2007   \n",
       "0         Medellin  3.425882   9.841453  -5.437332  50.120938       2010   \n",
       "0         Medellin  3.682943  10.091039   2.352369   3.192315       2007   \n",
       "0         Medellin  3.670276  10.045907   1.875104   2.769031       2008   \n",
       "0         Medellin  3.573692   9.912111  -0.980612   2.085615       2009   \n",
       "0         Medellin  3.696234  10.111028   2.722859   3.192315       2007   \n",
       "0         Medellin  3.668260  10.049141   1.847006   2.868291       2007   \n",
       "0         Medellin  3.638112   9.998663   0.946519   2.666347       2007   \n",
       "0       SantaMarta  4.111634   8.260731  -5.215243   3.276865       2010   \n",
       "0       SantaMarta  4.224150   8.250626  -2.960474   2.713609       2008   \n",
       "0       SantaMarta  4.180800   8.241711  -3.915306   3.015914       2009   \n",
       "0       SantaMarta  4.211439   8.245387  -3.257803   2.830538       2011   \n",
       "0       SantaMarta  4.242624   8.258494  -2.535551   2.595254       2008   \n",
       "0       SantaMarta  4.208399   8.246614  -3.308112   2.831964       2008   \n",
       "0       SantaMarta  4.215696   8.248304  -3.147643   2.787760       2008   \n",
       "0            Sucre  4.286451  10.751247   4.195222   3.449023       2010   \n",
       "0            Sucre  4.441364  10.983809   7.822513   4.091365       2007   \n",
       "0            Sucre  4.435853  10.962310   7.660794   4.043447       2008   \n",
       "0            Sucre  4.403637  10.946037   7.012694   3.919085       2009   \n",
       "0            Sucre  4.450507  10.999548   8.036212   4.133580       2007   \n",
       "0            Sucre  4.444091  10.986147   7.879986   4.094788       2007   \n",
       "0            Sucre  4.409468  10.936482   7.093725   3.922508       2007   \n",
       "0           Uribia  4.224940  11.068705  -0.605834   3.075940       2010   \n",
       "0           Uribia  4.361184  11.212251   2.526984   2.230513       2007   \n",
       "0           Uribia  4.315702  11.154902   1.469526   2.308096       2008   \n",
       "0           Uribia  4.328298  11.159492   1.706537   2.261318       2009   \n",
       "0           Uribia  4.392809  11.255350   3.256736   2.383397       2007   \n",
       "0           Uribia  4.370246  11.217367   2.701930   2.269304       2007   \n",
       "0           Uribia  4.368571  11.212791   2.651467   2.251050       2007   \n",
       "0       Valledupar  4.634997   8.381884   2.335391   2.243063       2010   \n",
       "0       Valledupar  4.668217   8.409280   3.030894   2.192862       2007   \n",
       "0       Valledupar  4.649380   8.392521   2.632358   2.211117       2008   \n",
       "0       Valledupar  4.516930   8.309483  -0.172041   2.636683       2009   \n",
       "0       Valledupar  4.685402   8.425341   3.393052   2.166621       2007   \n",
       "0       Valledupar  4.672462   8.412776   3.118412   2.192862       2007   \n",
       "0       Valledupar  4.611420   8.360378   1.816875   2.243063       2007   \n",
       "\n",
       "  AÑO FIN MES INICIO MES FIN  \n",
       "0    2011         10       3  \n",
       "0    2013          3      10  \n",
       "0    2012          3      10  \n",
       "0    2014          3      10  \n",
       "0    2012          4      10  \n",
       "0    2013          4      10  \n",
       "0    2014          4      10  \n",
       "0    2011         10       3  \n",
       "0    2008          3      10  \n",
       "0    2009          3      10  \n",
       "0    2010          3      10  \n",
       "0    2008          4      10  \n",
       "0    2009          4      10  \n",
       "0    2010          4      10  \n",
       "0    2011         10       3  \n",
       "0    2008          3      10  \n",
       "0    2009          3      10  \n",
       "0    2010          3      10  \n",
       "0    2008          4      10  \n",
       "0    2009          4      10  \n",
       "0    2010          4      10  \n",
       "0    2011         10       3  \n",
       "0    2008          3      10  \n",
       "0    2009          3      10  \n",
       "0    2010          3      10  \n",
       "0    2008          4      10  \n",
       "0    2009          4      10  \n",
       "0    2010          4      10  \n",
       "0    2011         10       3  \n",
       "0    2009          3      10  \n",
       "0    2010          3      10  \n",
       "0    2012          3      10  \n",
       "0    2009          4      10  \n",
       "0    2010          4      10  \n",
       "0    2011          4      10  \n",
       "0    2011         10       3  \n",
       "0    2008          3      10  \n",
       "0    2009          3      10  \n",
       "0    2010          3      10  \n",
       "0    2008          4      10  \n",
       "0    2009          4      10  \n",
       "0    2010          4      10  \n",
       "0    2011         10       3  \n",
       "0    2008          3      10  \n",
       "0    2009          3      10  \n",
       "0    2010          3      10  \n",
       "0    2008          4      10  \n",
       "0    2009          4      10  \n",
       "0    2010          4      10  \n",
       "0    2011         10       3  \n",
       "0    2008          3      10  \n",
       "0    2009          3      10  \n",
       "0    2010          3      10  \n",
       "0    2008          4      10  \n",
       "0    2009          4      10  \n",
       "0    2010          4      10  "
      ]
     },
     "execution_count": 34,
     "metadata": {},
     "output_type": "execute_result"
    }
   ],
   "source": [
    "#Entre el año 2010 y 2011 ocurrió un fenomeno de la niña\n",
    "table('Valledupar',2010, 2011, 10, 3);\n",
    "\n",
    "#se escogió distintos años para empezar, pero con la misma longitud\n",
    "table('Valledupar',2007, 2008, 3, 10);\n",
    "table('Valledupar',2008, 2009, 3, 10);\n",
    "table('Valledupar',2009, 2010, 3, 10);\n",
    "\n",
    "#Las últimas 3 iteraciones empezaban desde el mismo año, pero teniendo una\n",
    "#longitud distinta\n",
    "table('Valledupar',2007, 2008, 4, 10);\n",
    "table('Valledupar',2007, 2009, 4, 10);\n",
    "table('Valledupar',2007, 2010, 4, 10)"
   ]
  },
  {
   "cell_type": "markdown",
   "metadata": {},
   "source": [
    "* Como se puede apreciar en la tabla anterior, ningún error RMSNe es menor al 10%, y este no necesariamente decrece con una menor cantidad de datos, esto se debe a que es mejor escoger un buen año, que un lapso muy grande de tiempo.\n",
    "* El MBE no importa si es negativo o positivo, ya que este indica que tan sesgada o insesgada es la aproximación que se hizo\n",
    "* El KSI se mantuvo mas o menos constante, solo hubo dos casos excepcionales en la ciudad de Medellín y en el Carmen de Bolívar en el periodo que hubo un fenomeno de La Niña, lo cual nos indica que la predicción realizada en ese lapso de tiempo no es buena, ya que la alta nubosidad no afecta positivamente los valores de energía.\n"
   ]
  }
 ],
 "metadata": {
  "kernelspec": {
   "display_name": "Python 3.6",
   "language": "python",
   "name": "python36"
  },
  "language_info": {
   "codemirror_mode": {
    "name": "ipython",
    "version": 3
   },
   "file_extension": ".py",
   "mimetype": "text/x-python",
   "name": "python",
   "nbconvert_exporter": "python",
   "pygments_lexer": "ipython3",
   "version": "3.6.3"
  }
 },
 "nbformat": 4,
 "nbformat_minor": 2
}
